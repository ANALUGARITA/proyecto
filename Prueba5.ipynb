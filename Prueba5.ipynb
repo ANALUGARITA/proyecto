{
 "cells": [
  {
   "cell_type": "code",
   "execution_count": 1,
   "metadata": {},
   "outputs": [
    {
     "name": "stdout",
     "output_type": "stream",
     "text": [
      "0.11.0\n",
      "1.1.3\n"
     ]
    }
   ],
   "source": [
    "# Importar paquete de folium y Pandas\n",
    "import folium\n",
    "import pandas as pd\n",
    "\n",
    "# Impresión de la versión de Folium y pandas\n",
    "print(folium.__version__)\n",
    "print(pd.__version__)"
   ]
  },
  {
   "cell_type": "code",
   "execution_count": 2,
   "metadata": {
    "scrolled": true
   },
   "outputs": [],
   "source": [
    "# Definicion de Tablas\n",
    "df_positivos = pd.read_csv('01_10_07_CSV_POSITIVOS_ULTIMA_FECHA.csv', sep=',')\n",
    "df_activos = pd.read_csv('02_10_07_CSV_ACTIVOS_ULTIMA_FECHA.csv', sep=',')\n",
    "df_recuperados = pd.read_csv('03_10_07_CSV_RECUPERADOS_ULTIMA_FECHA.csv', sep=',')\n",
    "df_fallecidos = pd.read_csv('04_10_07_CSV_FALLECIDOS_ULTIMA_FECHA.csv', sep=',')\n",
    "\n",
    "# Definicion de capas\n",
    "geo_cantones = r'cr_limite_cantonal_ign_wgs84.geojson'"
   ]
  },
  {
   "cell_type": "code",
   "execution_count": 3,
   "metadata": {},
   "outputs": [
    {
     "data": {
      "text/html": [
       "<div>\n",
       "<style scoped>\n",
       "    .dataframe tbody tr th:only-of-type {\n",
       "        vertical-align: middle;\n",
       "    }\n",
       "\n",
       "    .dataframe tbody tr th {\n",
       "        vertical-align: top;\n",
       "    }\n",
       "\n",
       "    .dataframe thead th {\n",
       "        text-align: right;\n",
       "    }\n",
       "</style>\n",
       "<table border=\"1\" class=\"dataframe\">\n",
       "  <thead>\n",
       "    <tr style=\"text-align: right;\">\n",
       "      <th></th>\n",
       "      <th>Unnamed: 0</th>\n",
       "      <th>cod_canton</th>\n",
       "      <th>fallecidos</th>\n",
       "    </tr>\n",
       "  </thead>\n",
       "  <tbody>\n",
       "    <tr>\n",
       "      <th>0</th>\n",
       "      <td>1</td>\n",
       "      <td>112</td>\n",
       "      <td>2</td>\n",
       "    </tr>\n",
       "    <tr>\n",
       "      <th>1</th>\n",
       "      <td>2</td>\n",
       "      <td>110</td>\n",
       "      <td>46</td>\n",
       "    </tr>\n",
       "    <tr>\n",
       "      <th>2</th>\n",
       "      <td>3</td>\n",
       "      <td>106</td>\n",
       "      <td>7</td>\n",
       "    </tr>\n",
       "    <tr>\n",
       "      <th>3</th>\n",
       "      <td>4</td>\n",
       "      <td>118</td>\n",
       "      <td>31</td>\n",
       "    </tr>\n",
       "    <tr>\n",
       "      <th>4</th>\n",
       "      <td>5</td>\n",
       "      <td>103</td>\n",
       "      <td>89</td>\n",
       "    </tr>\n",
       "  </tbody>\n",
       "</table>\n",
       "</div>"
      ],
      "text/plain": [
       "   Unnamed: 0  cod_canton  fallecidos\n",
       "0           1         112           2\n",
       "1           2         110          46\n",
       "2           3         106           7\n",
       "3           4         118          31\n",
       "4           5         103          89"
      ]
     },
     "execution_count": 3,
     "metadata": {},
     "output_type": "execute_result"
    }
   ],
   "source": [
    "df_fallecidos.head(5)"
   ]
  },
  {
   "cell_type": "code",
   "execution_count": 4,
   "metadata": {},
   "outputs": [
    {
     "name": "stderr",
     "output_type": "stream",
     "text": [
      "C:\\Users\\gabriel.corrales\\Anaconda3\\envs\\Proyecto\\lib\\site-packages\\folium\\folium.py:415: FutureWarning: The choropleth  method has been deprecated. Instead use the new Choropleth class, which has the same arguments. See the example notebook 'GeoJSON_and_choropleth' for how to do this.\n",
      "  FutureWarning\n"
     ]
    },
    {
     "ename": "AttributeError",
     "evalue": "'NoneType' object has no attribute 'get_name'",
     "output_type": "error",
     "traceback": [
      "\u001b[1;31m---------------------------------------------------------------------------\u001b[0m",
      "\u001b[1;31mAttributeError\u001b[0m                            Traceback (most recent call last)",
      "\u001b[1;32m<ipython-input-4-e7c9eaa06123>\u001b[0m in \u001b[0;36m<module>\u001b[1;34m\u001b[0m\n\u001b[0;32m     38\u001b[0m                         \u001b[0moverlay\u001b[0m\u001b[1;33m=\u001b[0m\u001b[1;32mTrue\u001b[0m\u001b[1;33m,\u001b[0m\u001b[1;33m\u001b[0m\u001b[1;33m\u001b[0m\u001b[0m\n\u001b[0;32m     39\u001b[0m                         \u001b[0mlegend_name\u001b[0m\u001b[1;33m=\u001b[0m\u001b[1;34m'Casos positivos'\u001b[0m\u001b[1;33m,\u001b[0m\u001b[1;33m\u001b[0m\u001b[1;33m\u001b[0m\u001b[0m\n\u001b[1;32m---> 40\u001b[1;33m                         smooth_factor=0)\n\u001b[0m\u001b[0;32m     41\u001b[0m                     )\n\u001b[0;32m     42\u001b[0m \u001b[1;33m\u001b[0m\u001b[0m\n",
      "\u001b[1;32m~\\Anaconda3\\envs\\Proyecto\\lib\\site-packages\\branca\\element.py\u001b[0m in \u001b[0;36madd_child\u001b[1;34m(self, child, name, index)\u001b[0m\n\u001b[0;32m    103\u001b[0m         \u001b[1;34m\"\"\"Add a child.\"\"\"\u001b[0m\u001b[1;33m\u001b[0m\u001b[1;33m\u001b[0m\u001b[0m\n\u001b[0;32m    104\u001b[0m         \u001b[1;32mif\u001b[0m \u001b[0mname\u001b[0m \u001b[1;32mis\u001b[0m \u001b[1;32mNone\u001b[0m\u001b[1;33m:\u001b[0m\u001b[1;33m\u001b[0m\u001b[1;33m\u001b[0m\u001b[0m\n\u001b[1;32m--> 105\u001b[1;33m             \u001b[0mname\u001b[0m \u001b[1;33m=\u001b[0m \u001b[0mchild\u001b[0m\u001b[1;33m.\u001b[0m\u001b[0mget_name\u001b[0m\u001b[1;33m(\u001b[0m\u001b[1;33m)\u001b[0m\u001b[1;33m\u001b[0m\u001b[1;33m\u001b[0m\u001b[0m\n\u001b[0m\u001b[0;32m    106\u001b[0m         \u001b[1;32mif\u001b[0m \u001b[0mindex\u001b[0m \u001b[1;32mis\u001b[0m \u001b[1;32mNone\u001b[0m\u001b[1;33m:\u001b[0m\u001b[1;33m\u001b[0m\u001b[1;33m\u001b[0m\u001b[0m\n\u001b[0;32m    107\u001b[0m             \u001b[0mself\u001b[0m\u001b[1;33m.\u001b[0m\u001b[0m_children\u001b[0m\u001b[1;33m[\u001b[0m\u001b[0mname\u001b[0m\u001b[1;33m]\u001b[0m \u001b[1;33m=\u001b[0m \u001b[0mchild\u001b[0m\u001b[1;33m\u001b[0m\u001b[1;33m\u001b[0m\u001b[0m\n",
      "\u001b[1;31mAttributeError\u001b[0m: 'NoneType' object has no attribute 'get_name'"
     ]
    }
   ],
   "source": [
    "# Creacion del Mapa\n",
    "m = folium.Map(\n",
    "    name=\"Mapa de casos Covid-19\",\n",
    "    location=[9.65, -84], \n",
    "    zoom_start=8, \n",
    "    tiles=False,\n",
    "    control_scale=True)\n",
    "\n",
    "# Añade dos capa base adicional\n",
    "folium.TileLayer(\n",
    "    tiles='OpenStreetMap', \n",
    "    overlay=False,\n",
    "    name='Mapa Open Street Map').add_to(m)\n",
    "folium.TileLayer(\n",
    "    tiles='Stamen Terrain',\n",
    "    overlay=False,\n",
    "    name='Mapa Stamen Terrain').add_to(m)\n",
    "folium.TileLayer(\n",
    "    tiles='CartoDB positron',\n",
    "    overlay=False,\n",
    "    name='Mapa CartoDB Positron').add_to(m)\n",
    "\n",
    "\n",
    "fg=folium.FeatureGroup(Name=\"Casos\")\n",
    "\n",
    "for positivos in df_positivos['positivos']:\n",
    "        fg.add_child(m.choropleth(\n",
    "                        geo_data=geo_cantones,\n",
    "                        name='Casos positivos',\n",
    "                        data=df_positivos,\n",
    "                        columns=['cod_canton', 'positivos'],\n",
    "                        key_on='feature.properties.cod_canton',\n",
    "                        fill_color='OrRd', \n",
    "                        fill_opacity=1, \n",
    "                        line_opacity=1,\n",
    "                        bins=[0,3000, 6000, 9000, 12000, 15000],\n",
    "                        highlight=True,\n",
    "                        overlay=True,\n",
    "                        legend_name='Casos positivos',\n",
    "                        smooth_factor=0)\n",
    "                    )\n",
    "\n",
    "m.add_child(fg)\n",
    "\n",
    "folium.LayerControl(position='bottomleft', \n",
    "                   collapsed=True,\n",
    "                   addOverlay=True,\n",
    "                   autoZIndex=True,\n",
    "                   hideSingleBase=True,\n",
    "                   sortLayers=True).add_to(m)\n",
    "\n",
    "\n",
    "# Despliegue de Mapa\n",
    "m\n",
    "\n",
    "\n",
    "# Guardar Mapa\n",
    "# m.save('index.html')\n"
   ]
  },
  {
   "cell_type": "code",
   "execution_count": null,
   "metadata": {},
   "outputs": [],
   "source": []
  }
 ],
 "metadata": {
  "kernelspec": {
   "display_name": "Python 3",
   "language": "python",
   "name": "python3"
  },
  "language_info": {
   "codemirror_mode": {
    "name": "ipython",
    "version": 3
   },
   "file_extension": ".py",
   "mimetype": "text/x-python",
   "name": "python",
   "nbconvert_exporter": "python",
   "pygments_lexer": "ipython3",
   "version": "3.7.1"
  }
 },
 "nbformat": 4,
 "nbformat_minor": 4
}
